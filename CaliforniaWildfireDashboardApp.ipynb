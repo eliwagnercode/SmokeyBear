{
  "nbformat": 4,
  "nbformat_minor": 0,
  "metadata": {
    "colab": {
      "provenance": [],
      "collapsed_sections": [
        "U5bJBFOAJWtK",
        "Q5KIpsAcElh-"
      ],
      "authorship_tag": "ABX9TyPxvKwOamgF/bAGIHSQYDEG",
      "include_colab_link": true
    },
    "kernelspec": {
      "name": "python3",
      "display_name": "Python 3"
    },
    "language_info": {
      "name": "python"
    }
  },
  "cells": [
    {
      "cell_type": "markdown",
      "metadata": {
        "id": "view-in-github",
        "colab_type": "text"
      },
      "source": [
        "<a href=\"https://colab.research.google.com/github/eliwagnercode/SmokeyBear/blob/main/CaliforniaWildfireDashboardApp.ipynb\" target=\"_parent\"><img src=\"https://colab.research.google.com/assets/colab-badge.svg\" alt=\"Open In Colab\"/></a>"
      ]
    },
    {
      "cell_type": "markdown",
      "source": [
        "# Package Installation"
      ],
      "metadata": {
        "id": "U5bJBFOAJWtK"
      }
    },
    {
      "cell_type": "code",
      "source": [
        "!pip install geopandas\n",
        "!pip install earthengine-api\n",
        "!pip install geemap\n",
        "!pip install dash"
      ],
      "metadata": {
        "id": "kNk8PcRrnU5V"
      },
      "execution_count": null,
      "outputs": []
    },
    {
      "cell_type": "markdown",
      "source": [
        "# Raw Data Acquisition"
      ],
      "metadata": {
        "id": "Q5KIpsAcElh-"
      }
    },
    {
      "cell_type": "code",
      "execution_count": null,
      "metadata": {
        "cellView": "form",
        "id": "HLc_1pYsNgOS"
      },
      "outputs": [],
      "source": [
        "# @title # Download archive from US Forest Service\n",
        "!wget https://www.fs.usda.gov/rds/archive/products/RDS-2013-0009.6/RDS-2013-0009.6_SQLITE.zip\n",
        "\n",
        "# Unarchive data\n",
        "!unzip /content/RDS-2013-0009.6_SQLITE.zip"
      ]
    },
    {
      "cell_type": "code",
      "source": [
        "# @title # Extract data from SQLite database\n",
        "\n",
        "import sqlite3\n",
        "conn = sqlite3.connect('/content/Data/FPA_FOD_20221014.sqlite')\n",
        "cur = conn.cursor()\n",
        "cur.execute(\"PRAGMA table_info('Fires')\")\n",
        "sql_cols = cur.fetchall()\n",
        "df_cols = []\n",
        "for col in sql_cols:\n",
        "  df_cols.append(col[1])\n",
        "cur.execute(\"select * from 'Fires'\")\n",
        "sql_rows = cur.fetchall()\n",
        "df_rows = []\n",
        "for row in sql_rows:\n",
        "  df_rows.append(list(row))\n",
        "\n",
        "# Convert to Pandas DataFrame\n",
        "import pandas as pd\n",
        "gdf_USFires = pd.DataFrame(data=df_rows,columns=df_cols)\n",
        "\n",
        "# Drop columns and improve readability\n",
        "gdf_USFires = gdf_USFires[\n",
        "    ['FPA_ID','LONGITUDE','LATITUDE','FIRE_SIZE','FIRE_SIZE_CLASS',\n",
        "     'FIRE_YEAR','DISCOVERY_DATE','STATE']\n",
        "    ].rename(\n",
        "    columns={\n",
        "    'LONGITUDE':'lon',\n",
        "    'LATITUDE':'lat',\n",
        "    'FIRE_SIZE':'fireSize',\n",
        "    'FIRE_SIZE_CLASS':'fireClass',\n",
        "    'FIRE_YEAR':'fireYear',\n",
        "    'DISCOVERY_DATE':'fireDate',\n",
        "    'STATE':'stateName'}\n",
        "    ).drop_duplicates('FPA_ID')\n",
        "gdf_USFires"
      ],
      "metadata": {
        "cellView": "form",
        "id": "OnHmziH_zvNT"
      },
      "execution_count": null,
      "outputs": []
    },
    {
      "cell_type": "code",
      "source": [
        "# @title # Convert DataFrame to GeoDataFrame\n",
        "\n",
        "import geopandas as gpd # !pip install geopandas\n",
        "\n",
        "gdf_USFires = gpd.GeoDataFrame(gdf_USFires,\n",
        "    geometry = gpd.points_from_xy(\n",
        "        gdf_USFires['lon'], gdf_USFires['lat'])\n",
        "    ).set_crs(epsg=4326\n",
        "        )[['geometry','FPA_ID','fireSize','fireClass','fireYear','fireDate','stateName']]"
      ],
      "metadata": {
        "cellView": "form",
        "id": "wpdAteGh-2zP"
      },
      "execution_count": null,
      "outputs": []
    },
    {
      "cell_type": "code",
      "source": [
        "# @title # Download US county geometries from Google Earth Engine API\n",
        "\n",
        "# Import, authenticate, and initialize Google Earth Engine;\n",
        "import ee # !pip install earthengine-api\n",
        "ee.Authenticate()\n",
        "ee.Initialize()\n",
        "import geemap # !pip install geemap\n",
        "import json\n",
        "\n",
        "gdf_USCounties = geemap.ee_to_geopandas(\n",
        "    ee.FeatureCollection(\"TIGER/2016/Counties\")\n",
        ").set_crs(epsg=4326)\n",
        "gdf_USCounties = gdf_USCounties.rename(\n",
        "    columns={'GEOID':'countyFIPS',\n",
        "             'STATEFP':'stateFIPS',\n",
        "             'NAMELSAD':'countyName'})\n",
        "gdf_USCounties = gdf_USCounties[['geometry','stateFIPS','countyFIPS','countyName']]"
      ],
      "metadata": {
        "id": "o0oVjcMDAWFL",
        "cellView": "form"
      },
      "execution_count": null,
      "outputs": []
    },
    {
      "cell_type": "code",
      "source": [
        "# @title # Assign wildfire ignition points to US counties\n",
        "gdf_USFires = gpd.sjoin(\n",
        "    gdf_USFires,gdf_USCounties,\n",
        "    how='left'\n",
        "    ).drop(columns=['index_right'])\n",
        "gdf_USFires"
      ],
      "metadata": {
        "id": "675ka6rnE6Tq",
        "cellView": "form"
      },
      "execution_count": null,
      "outputs": []
    },
    {
      "cell_type": "code",
      "source": [
        "# @title # Create subsets for California counties\n",
        "gdf_CACounties = gdf_USCounties.copy()[gdf_USCounties['stateFIPS']=='06']\n",
        "geojson_CACounties = json.loads(gdf_CACounties[['geometry']].to_json())\n",
        "\n",
        "gdf_CAFires = gdf_USFires.copy()\n",
        "gdf_CAFires = gdf_CAFires[\n",
        "    gdf_CAFires['stateFIPS']=='06']\n",
        "gdf_CAFires"
      ],
      "metadata": {
        "id": "r0rVcKqKQu9I",
        "cellView": "form"
      },
      "execution_count": null,
      "outputs": []
    },
    {
      "cell_type": "code",
      "source": [
        "# @title # Calculate total burn area by county and year\n",
        "df_USFires_BurnAreaByCountyAndYear = gdf_USFires.groupby(\n",
        "    by=['fireYear','countyFIPS','countyName']\n",
        "    )['fireSize'].sum().to_frame().reset_index().rename(\n",
        "    columns={\n",
        "        'fireYear':'Year',\n",
        "        'countyFIPS':'FIPS',\n",
        "        'countyName':'County Name',\n",
        "        'fireSize':'Total Burn Area'}\n",
        ")\n",
        "\n",
        "df_CAFires_BurnAreaByCountyAndYear = gdf_CAFires.groupby(\n",
        "    by=['fireYear','countyFIPS','countyName']\n",
        "    )['fireSize'].sum().to_frame().reset_index().rename(\n",
        "    columns={\n",
        "        'fireYear':'Year',\n",
        "        'countyFIPS':'FIPS',\n",
        "        'countyName':'County Name',\n",
        "        'fireSize':'Total Burn Area'}\n",
        ")"
      ],
      "metadata": {
        "id": "UFPxbx_1W_9x",
        "cellView": "form"
      },
      "execution_count": null,
      "outputs": []
    },
    {
      "cell_type": "code",
      "source": [
        "# @title # Download clean data for easier loading\n",
        "from google.colab import files\n",
        "\n",
        "def download_df_as_csv(df,filename):\n",
        "  with open(filename, 'w', encoding = 'utf-8-sig') as f:\n",
        "    df.to_csv(f)\n",
        "  files.download(filename)\n",
        "\n",
        "filename = 'USFires_BurnAreaByCountyAndYear.csv'\n",
        "download_df_as_csv(df_USFires_BurnAreaByCountyAndYear,filename)\n",
        "\n",
        "filename = 'CAFires_BurnAreaByCountyAndYear.csv'\n",
        "download_df_as_csv(df_CAFires_BurnAreaByCountyAndYear,filename)\n",
        "\n",
        "filename = 'gdf_USCounties.csv'\n",
        "download_df_as_csv(gdf_USCounties,filename)\n",
        "\n",
        "filename = 'gdf_CACounties.csv'\n",
        "download_df_as_csv(gdf_CACounties,filename)"
      ],
      "metadata": {
        "id": "Rsw2Z0ZqevP8",
        "cellView": "form"
      },
      "execution_count": null,
      "outputs": []
    },
    {
      "cell_type": "markdown",
      "source": [
        "# Choropleth Map Dashboard"
      ],
      "metadata": {
        "id": "8wOaxO8SE5XJ"
      }
    },
    {
      "cell_type": "code",
      "source": [
        "# @title # Load GeoDataFrames from CSV\n",
        "import pandas as pd\n",
        "import geopandas as gpd\n",
        "from shapely import wkt\n",
        "import json\n",
        "\n",
        "def csv_to_gdf(filepath):\n",
        "  gdf = pd.read_csv(filepath)\n",
        "  gdf = gdf.drop(gdf.columns[0],axis=1)\n",
        "  gdf['geometry'] = gdf['geometry'].apply(wkt.loads) # Convert geometry string to WKT geometry object\n",
        "  gdf = gpd.GeoDataFrame(gdf,geometry='geometry').set_crs(epsg=4326) # Convert df to gdf\n",
        "  return gdf\n",
        "\n",
        "df_CAFires_BurnAreaByCountyAndYear = pd.read_csv(\n",
        "    'https://raw.githubusercontent.com/eliwagnercode/SmokeyBear/main/CAFires_BurnAreaByCountyAndYear.csv')\n",
        "\n",
        "gdf_CACounties = csv_to_gdf(\n",
        "    'https://raw.githubusercontent.com/eliwagnercode/SmokeyBear/main/gdf_CACounties.csv')\n",
        "gdf_CACounties.index = gdf_CACounties['countyFIPS']\n",
        "geojson_CACounties = json.loads(gdf_CACounties[['geometry']].to_json())"
      ],
      "metadata": {
        "id": "toc99NjrO2jj",
        "cellView": "form"
      },
      "execution_count": 2,
      "outputs": []
    },
    {
      "cell_type": "code",
      "source": [
        "# @title # Build Choropleth Map Dashboard with Plotly\n",
        "import plotly.express as px\n",
        "\n",
        "df = df_CAFires_BurnAreaByCountyAndYear.copy()\n",
        "Q3 = df['Total Burn Area'].quantile(0.75)\n",
        "Q1 = df['Total Burn Area'].quantile(0.25)\n",
        "IQR = Q3 - Q1\n",
        "range_color_max = Q3 + (1.5*IQR)\n",
        "fig = px.choropleth_mapbox(\n",
        "    data_frame = df,\n",
        "    geojson=geojson_CACounties,\n",
        "    locations='FIPS',\n",
        "    hover_name='County Name',\n",
        "    color='Total Burn Area',\n",
        "    color_continuous_scale='blues',\n",
        "    range_color=(0,range_color_max),\n",
        "    mapbox_style='carto-positron',\n",
        "    zoom=3,\n",
        "    center={'lat': 37.0902, 'lon': -119.4179},\n",
        "    opacity=0.8,\n",
        "    animation_frame = 'Year',\n",
        "    animation_group = 'FIPS',\n",
        "    title = 'Total Burn Area By County And Year'\n",
        ")\n",
        "fig.show()"
      ],
      "metadata": {
        "cellView": "form",
        "id": "1KaDYM2aWzt1"
      },
      "execution_count": 15,
      "outputs": []
    },
    {
      "cell_type": "code",
      "source": [
        "# @title # Launch Dashboard as Dash app\n",
        "\n",
        "# Create a Dash app\n",
        "from dash import Dash, dcc, html, Input, Output # !pip install dash\n",
        "import plotly.express as px\n",
        "\n",
        "app = Dash(__name__)\n",
        "\n",
        "# Select data\n",
        "df = df_CAFires_BurnAreaByCountyAndYear.copy()\n",
        "range_color_max = df['Total Burn Area'].quantile(0.75)\n",
        "# Define the layout of the app\n",
        "app.layout = html.Div([\n",
        "    dcc.Slider(\n",
        "        id='year-slider',\n",
        "        min=df['Year'].min(),\n",
        "        max=df['Year'].max(),\n",
        "        value=df['Year'].min(),\n",
        "        marks={str(year): str(year) for year in df['Year'].unique()},\n",
        "        step=None\n",
        "    ),\n",
        "    dcc.Graph(id='choropleth')\n",
        "])\n",
        "\n",
        "# Define the callback function\n",
        "@app.callback(\n",
        "    Output('choropleth', 'figure'),\n",
        "    [Input('year-slider', 'value')]\n",
        ")\n",
        "def update_choropleth(selected_year):\n",
        "    filtered_data = df[df['Year'] == selected_year]\n",
        "    fig = px.choropleth_mapbox(\n",
        "        data_frame=filtered_data,\n",
        "        geojson=geojson_CACounties,\n",
        "        locations='FIPS',\n",
        "        hover_name = 'County Name',\n",
        "        color='Total Burn Area',\n",
        "        color_continuous_scale='blues',\n",
        "        range_color=(0,range_color_max),\n",
        "        mapbox_style='carto-positron',\n",
        "        zoom=5.5,\n",
        "        center={'lat': 37.0902, 'lon': -119.4179},\n",
        "        opacity=0.8,\n",
        "        title = 'Total Burn Area By County And Year'\n",
        "    )\n",
        "    fig.update_layout(margin={'r': 10, 't': 50, 'l': 10, 'b': 10})\n",
        "    return fig\n",
        "\n",
        "# Run the app\n",
        "if __name__ == '__main__':\n",
        "    app.run_server(debug=True)"
      ],
      "metadata": {
        "id": "e3DlVvIezsz0",
        "colab": {
          "base_uri": "https://localhost:8080/",
          "height": 672
        },
        "outputId": "b54688ca-534e-4fe9-e0c1-f8963ac58eec",
        "cellView": "form"
      },
      "execution_count": 25,
      "outputs": [
        {
          "output_type": "display_data",
          "data": {
            "text/plain": [
              "<IPython.core.display.Javascript object>"
            ],
            "application/javascript": [
              "(async (port, path, width, height, cache, element) => {\n",
              "    if (!google.colab.kernel.accessAllowed && !cache) {\n",
              "      return;\n",
              "    }\n",
              "    element.appendChild(document.createTextNode(''));\n",
              "    const url = await google.colab.kernel.proxyPort(port, {cache});\n",
              "    const iframe = document.createElement('iframe');\n",
              "    iframe.src = new URL(path, url).toString();\n",
              "    iframe.height = height;\n",
              "    iframe.width = width;\n",
              "    iframe.style.border = 0;\n",
              "    iframe.allow = [\n",
              "        'accelerometer',\n",
              "        'autoplay',\n",
              "        'camera',\n",
              "        'clipboard-read',\n",
              "        'clipboard-write',\n",
              "        'gyroscope',\n",
              "        'magnetometer',\n",
              "        'microphone',\n",
              "        'serial',\n",
              "        'usb',\n",
              "        'xr-spatial-tracking',\n",
              "    ].join('; ');\n",
              "    element.appendChild(iframe);\n",
              "  })(8050, \"/\", \"100%\", 650, false, window.element)"
            ]
          },
          "metadata": {}
        }
      ]
    }
  ]
}