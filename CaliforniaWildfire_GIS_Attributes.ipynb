{
  "cells": [
    {
      "cell_type": "markdown",
      "metadata": {
        "id": "view-in-github",
        "colab_type": "text"
      },
      "source": [
        "<a href=\"https://colab.research.google.com/github/eliwagnercode/SmokeyBear/blob/main/CaliforniaWildfire_GIS_Attributes.ipynb\" target=\"_parent\"><img src=\"https://colab.research.google.com/assets/colab-badge.svg\" alt=\"Open In Colab\"/></a>"
      ]
    },
    {
      "cell_type": "markdown",
      "metadata": {
        "id": "5VKSqjYpAZXv"
      },
      "source": [
        "# Import Packages"
      ]
    },
    {
      "cell_type": "code",
      "execution_count": null,
      "metadata": {
        "cellView": "form",
        "id": "Y5sCoTEHJMkE"
      },
      "outputs": [],
      "source": [
        "# @title Installations\n",
        "!pip install geopandas\n",
        "!pip install geemap\n",
        "!pip install click --upgrade\n",
        "!pip install earthengine-api\n",
        "!pip install tensorflow\n",
        "!pip install tensorflow_decision_forests"
      ]
    },
    {
      "cell_type": "code",
      "execution_count": 2,
      "metadata": {
        "id": "y6dkSTxtD7U2",
        "cellView": "form"
      },
      "outputs": [],
      "source": [
        "# @title Mount personal Google Drive\n",
        "# from google.colab import drive\n",
        "# drive.mount('/content/drive')"
      ]
    },
    {
      "cell_type": "code",
      "execution_count": null,
      "metadata": {
        "id": "g8O2iXTTKUC4",
        "cellView": "form"
      },
      "outputs": [],
      "source": [
        "# @title Import Packages\n",
        "import ee # Import Google Earth Engine\n",
        "ee.Authenticate() # Trigger the authentication flow.\n",
        "ee.Initialize(opt_url='https://earthengine-highvolume.googleapis.com') # Initialize the library.\n",
        "import geemap\n",
        "\n",
        "# import logging\n",
        "# import multiprocessing\n",
        "# import requests\n",
        "# import shutil\n",
        "# from retry import retry\n",
        "\n",
        "import math, numpy as np, pandas as pd\n",
        "from tqdm import tqdm, trange # used for progress bars\n",
        "import geopandas as gpd\n",
        "from shapely import wkt\n",
        "from datetime import datetime\n",
        "import time\n",
        "\n",
        "# ML\n",
        "import sklearn\n",
        "from sklearn.metrics import confusion_matrix\n",
        "from sklearn.model_selection import train_test_split\n",
        "from sklearn.preprocessing import StandardScaler\n",
        "import tensorflow as tf\n",
        "import tensorflow_decision_forests as tfdf\n",
        "# from geopy.geocoders import Nominatim"
      ]
    },
    {
      "cell_type": "markdown",
      "metadata": {
        "id": "UCPkOHv5Ax5j"
      },
      "source": [
        "# Raw Data Acquisition - Historical Wildfire Ignition Points"
      ]
    },
    {
      "cell_type": "code",
      "execution_count": null,
      "metadata": {
        "id": "u-beut8oDWT7",
        "cellView": "form"
      },
      "outputs": [],
      "source": [
        "# @title # Download archive from US Forest Service\n",
        "!wget https://www.fs.usda.gov/rds/archive/products/RDS-2013-0009.6/RDS-2013-0009.6_SQLITE.zip\n",
        "\n",
        "# Unarchive data\n",
        "!unzip /content/RDS-2013-0009.6_SQLITE.zip"
      ]
    },
    {
      "cell_type": "code",
      "source": [
        "# @title # Extract data from SQLite database\n",
        "\n",
        "import sqlite3\n",
        "conn = sqlite3.connect('/content/Data/FPA_FOD_20221014.sqlite')\n",
        "cur = conn.cursor()\n",
        "cur.execute(\"PRAGMA table_info('Fires')\")\n",
        "sql_cols = cur.fetchall()\n",
        "df_cols = []\n",
        "for col in sql_cols:\n",
        "  df_cols.append(col[1])\n",
        "cur.execute(\"select * from 'Fires'\")\n",
        "sql_rows = cur.fetchall()\n",
        "df_rows = []\n",
        "for row in sql_rows:\n",
        "  df_rows.append(list(row))\n",
        "\n",
        "# Convert to Pandas DataFrame\n",
        "import pandas as pd\n",
        "gdf_USFires = pd.DataFrame(data=df_rows,columns=df_cols)\n",
        "\n",
        "# Drop columns and improve readability\n",
        "gdf_USFires = gdf_USFires[\n",
        "    ['FPA_ID','LONGITUDE','LATITUDE','FIRE_SIZE','FIRE_SIZE_CLASS',\n",
        "     'FIRE_YEAR','DISCOVERY_DATE','STATE']\n",
        "    ].rename(\n",
        "    columns={\n",
        "    'LONGITUDE':'lon',\n",
        "    'LATITUDE':'lat',\n",
        "    'FIRE_SIZE':'fireSize',\n",
        "    'FIRE_SIZE_CLASS':'fireClass',\n",
        "    'FIRE_YEAR':'fireYear',\n",
        "    'DISCOVERY_DATE':'fireDate',\n",
        "    'STATE':'stateName'}\n",
        "    ).drop_duplicates('FPA_ID')\n",
        "gdf_USFires"
      ],
      "metadata": {
        "cellView": "form",
        "id": "BQ60MDblI8KK"
      },
      "execution_count": null,
      "outputs": []
    },
    {
      "cell_type": "code",
      "source": [
        "# @title # Convert DataFrame to GeoDataFrame\n",
        "\n",
        "import geopandas as gpd # !pip install geopandas\n",
        "\n",
        "geom = gpd.points_from_xy(\n",
        "    gdf_USFires['lon'], gdf_USFires['lat']\n",
        ")\n",
        "gdf_USFires = gpd.GeoDataFrame(\n",
        "    gdf_USFires,\n",
        "    geometry = geom,\n",
        "    crs='EPSG:4326'\n",
        "    )[['geometry','FPA_ID','fireSize','fireClass',\n",
        "       'fireYear','fireDate','stateName']]\n",
        "gdf_USFires"
      ],
      "metadata": {
        "cellView": "form",
        "id": "AcmBGZlcJDDB"
      },
      "execution_count": 7,
      "outputs": []
    },
    {
      "cell_type": "code",
      "source": [
        "# @title # Create subset for California\n",
        "gdf_CAFires = gdf_USFires[gdf_USFires['stateName'] == 'CA']\n",
        "gdf_CAFires"
      ],
      "metadata": {
        "cellView": "form",
        "id": "x-O8O3wijIv5"
      },
      "execution_count": null,
      "outputs": []
    },
    {
      "cell_type": "code",
      "source": [
        "# @title # Download clean data for easier loading\n",
        "\n",
        "def gdf_to_csv(gdf,filename=None,timestamp=True):\n",
        "  filename = str(filename)\n",
        "  if timestamp == True:\n",
        "    today = datetime.now().strftime('%Y-%m-%d')\n",
        "    path = f'/content/{today}_{filename}'\n",
        "  else:\n",
        "    path = f'/content/{filename}'\n",
        "  with open(path, 'w', encoding = 'utf-8-sig') as f:\n",
        "    gdf.to_csv(f)\n",
        "\n",
        "filename = 'USFires_IgnitionPoints.csv'\n",
        "gdf_to_csv(gdf_USFires,filename,timestamp=False)\n",
        "\n",
        "filename = 'CAFires_IgnitionPoints.csv'\n",
        "gdf_to_csv(gdf_CAFires,filename,timestamp=False)"
      ],
      "metadata": {
        "cellView": "form",
        "id": "WdOWZVDnK2Tz"
      },
      "execution_count": 44,
      "outputs": []
    },
    {
      "cell_type": "markdown",
      "metadata": {
        "id": "scXEJYKIC54G"
      },
      "source": [
        "# Data Acquisition - Ignition Point GIS Attributes"
      ]
    },
    {
      "cell_type": "code",
      "source": [
        "# @title Create DRY functions\n",
        "def csv_to_gdf(filepath):\n",
        "  gdf = pd.read_csv(filepath)\n",
        "  gdf = gdf.drop(gdf.columns[0],axis=1)\n",
        "  gdf['geometry'] = gdf['geometry'].apply(wkt.loads) # Convert geometry string to WKT geometry object\n",
        "  gdf = gpd.GeoDataFrame(gdf,geometry='geometry').set_crs(epsg=4326) # Convert df to gdf\n",
        "  return gdf\n",
        "\n",
        "def gdf_to_csv(gdf,filename=None,timestamp=True):\n",
        "  filename = str(filename)\n",
        "  if timestamp == True:\n",
        "    today = datetime.now().strftime('%Y-%m-%d')\n",
        "    path = f'/content/{filename}_{today}'\n",
        "  else:\n",
        "    path = f'/content/{filename}'\n",
        "  with open(path, 'w', encoding = 'utf-8-sig') as f:\n",
        "    gdf.to_csv(f)\n",
        "\n",
        "def trim_gdf(gdf,index):\n",
        "  gdf = gdf.drop(index).reset_index(drop=True)\n",
        "  return gdf\n",
        "\n",
        "def split_gdf(gdf,splitSize=1000): # GEE cancels queries amassing > 5000 elements\n",
        "  split_gdf_list = np.array_split(gdf.copy(),\n",
        "                           range(0,len(gdf),splitSize)\n",
        "                           )[1:] # first element returns empty gdf\n",
        "  return split_gdf_list\n",
        "\n",
        "def get_results(gdf,functionToMap):\n",
        "  start_time = time.time()\n",
        "  split_gdf_list = split_gdf(gdf)\n",
        "  gdf_allResults = gpd.GeoDataFrame()\n",
        "  for gdf in tqdm(split_gdf_list,\n",
        "                  total = len(split_gdf_list),\n",
        "                  desc = \"Downloading and extracting data\"):\n",
        "    featCol = geemap.geopandas_to_ee(gdf)\n",
        "    resultCol = featCol.map(functionToMap,opt_dropNulls=True)\n",
        "    gdf_results = geemap.ee_to_geopandas(resultCol)\n",
        "    gdf_results = gdf_results.set_crs('EPSG:4326')\n",
        "    gdf_allResults = gpd.GeoDataFrame(\n",
        "        pd.concat([gdf_allResults.copy(),gdf_results.copy()],\n",
        "                  ignore_index=True),\n",
        "                  crs='EPSG:4326')\n",
        "  print(\n",
        "      '\\n' + str(round((time.time()-start_time)/60,3))\n",
        "      +' minutes total download time')\n",
        "  return gdf_allResults"
      ],
      "metadata": {
        "id": "eMkS_T9kk6s8",
        "cellView": "form"
      },
      "execution_count": 18,
      "outputs": []
    },
    {
      "cell_type": "code",
      "source": [
        "# @title Load Main GeoDataFrame (gdf_CAFires)\n",
        "filepath = 'https://raw.githubusercontent.com/eliwagnercode/SmokeyBear/main/CAFires_IgnitionPoints.csv'\n",
        "gdf_CAFires = csv_to_gdf(filepath).drop(columns='stateName')\n",
        "gdf_CAFires"
      ],
      "metadata": {
        "id": "s4eCG3Z5ytGr",
        "cellView": "form"
      },
      "execution_count": null,
      "outputs": []
    },
    {
      "cell_type": "code",
      "source": [
        "# @title Topography\n",
        "\n",
        "def get_topo(feat):\n",
        "  elevation_img = ee.Image('USGS/SRTMGL1_003').select('elevation')\n",
        "  slope_img = ee.Terrain.slope(ee.Image('USGS/SRTMGL1_003')).select('slope')\n",
        "  aspect_img = ee.Terrain.aspect(ee.Image('USGS/SRTMGL1_003')).select('aspect')\n",
        "  elevation = elevation_img.sample(feat.geometry(),scale=10).first().get('elevation')\n",
        "  slope = slope_img.sample(feat.geometry(),scale=10).first().get('slope')\n",
        "  aspect = aspect_img.sample(feat.geometry(),scale=10).first().get('aspect')\n",
        "  return feat.set({'elevation':elevation,\n",
        "                   'slope':slope,\n",
        "                   'aspect':aspect})\n",
        "\n",
        "gdf_topo = gdf_CAFires.copy()\n",
        "gdf_topo = get_results(gdf_topo,get_topo)\n",
        "filename = 'gdf_topo.csv'\n",
        "gdf_to_csv(gdf_topo)\n",
        "gdf_topo"
      ],
      "metadata": {
        "cellView": "form",
        "id": "6WSqChKmlFwD"
      },
      "execution_count": null,
      "outputs": []
    },
    {
      "cell_type": "code",
      "execution_count": null,
      "metadata": {
        "id": "gwo1-fXBhBr-",
        "cellView": "form"
      },
      "outputs": [],
      "source": [
        "# @title Vegetation Index\n",
        "def get_ndvi(feat):\n",
        "  f_date = ee.Date(feat.get('fireDate'))\n",
        "  i_date = f_date.advance(-1,'year')\n",
        "  img = ee.ImageCollection(\"MODIS/061/MOD13A1\")\\\n",
        "    .filterDate(i_date,f_date)\\\n",
        "    .filterBounds(feat.geometry())\\\n",
        "    .select('NDVI')\\\n",
        "    .mean()\n",
        "  ndvi = img.sample(feat.geometry(),scale=10).first().get('NDVI')\n",
        "  return feat.set({'NDVI':ndvi})\n",
        "\n",
        "gdf_ndvi = gdf_CAFires.copy()\n",
        "gdf_ndvi = get_results(gdf_ndvi,get_topo)\n",
        "filename = 'gdf_ndvi.csv'\n",
        "gdf_to_csv(gdf_ndvi)\n",
        "gdf_ndvi"
      ]
    },
    {
      "cell_type": "code",
      "execution_count": null,
      "metadata": {
        "cellView": "form",
        "id": "0yE3qDZVVZV3"
      },
      "outputs": [],
      "source": [
        "# @title Solar Radiation Annual Mean\n",
        "def get_solarRadAnnual(feat):\n",
        "  f_date = ee.Date(feat.get('fireDate'))\n",
        "  i_date = f_date.advance(-1,'year')\n",
        "  imgCol = ee.ImageCollection('ECMWF/ERA5_LAND/MONTHLY_AGGR') \\\n",
        "    .filterDate(i_date,f_date)\\\n",
        "    .filterBounds(feat.geometry())\\\n",
        "    .select('surface_net_solar_radiation_sum') # (J/m^2)\n",
        "  img = imgCol.mean()\n",
        "  solarRadAnnual = img.sample(feat.geometry(),scale=10)\\\n",
        "    .first()\\\n",
        "    .get('surface_net_solar_radiation_sum')\n",
        "  return feat.set({'solarRadAnnual':solarRadAnnual})\n",
        "\n",
        "gdf_solarRadAnnual = gdf_CAFires.copy()\n",
        "gdf_solarRadAnnual = get_results(gdf_solarRadAnnual,get_topo)\n",
        "filename = 'gdf_solarRadAnnual.csv'\n",
        "gdf_to_csv(gdf_solarRadAnnual)\n",
        "gdf_solarRadAnnual"
      ]
    },
    {
      "cell_type": "code",
      "execution_count": null,
      "metadata": {
        "cellView": "form",
        "id": "cSM4L_90ZO-D"
      },
      "outputs": [],
      "source": [
        "# @title Solar Radiation Monthly Mean\n",
        "def get_solarRadMonthly(feat):\n",
        "  f_date = ee.Date(feat.get('fireDate'))\n",
        "  i_date = f_date.advance(-1,'month')\n",
        "  imgCol = ee.ImageCollection('ECMWF/ERA5_LAND/MONTHLY_AGGR') \\\n",
        "    .filterDate(i_date,f_date)\\\n",
        "    .filterBounds(feat.geometry())\\\n",
        "    .select('surface_net_solar_radiation_sum') # (J/m^2)\n",
        "  img = imgCol.mean()\n",
        "  solarRadMonthly = img.sample(feat.geometry(),scale=10)\\\n",
        "    .first()\\\n",
        "    .get('surface_net_solar_radiation_sum')\n",
        "  return feat.set({'solarRadMonthly':solarRadMonthly})\n",
        "\n",
        "gdf_solarRadMonthly = gdf_CAFires.copy()\n",
        "gdf_solarRadMonthly = get_results(gdf_solarRadMonthly,get_topo)\n",
        "filename = 'gdf_solarRadMonthly.csv'\n",
        "gdf_to_csv(gdf_solarRadMonthly)\n",
        "gdf_solarRadMonthly"
      ]
    },
    {
      "cell_type": "code",
      "execution_count": null,
      "metadata": {
        "cellView": "form",
        "id": "b1eZZJo4hXcn"
      },
      "outputs": [],
      "source": [
        "# @title Solar Radiation Daily\n",
        "def get_solarRadDaily(feat):\n",
        "  date = ee.Date(feat.get('fireDate'))\n",
        "  imgCol = ee.ImageCollection('ECMWF/ERA5_LAND/DAILY_AGGR') \\\n",
        "    .filterDate(date) \\\n",
        "    .select('surface_net_solar_radiation_sum') # (J/m^2)\n",
        "  img = imgCol.mean()\n",
        "  solarRadDaily = img.sample(feat.geometry(),scale=10).first().get('surface_net_solar_radiation_sum')\n",
        "  return feat.set({'solarRadDaily':solarRadDaily})\n",
        "\n",
        "gdf_solarRadDaily = gdf_CAFires.copy()\n",
        "gdf_solarRadDaily = get_results(gdf_solarRadDaily,get_topo)\n",
        "filename = 'gdf_solarRadDaily.csv'\n",
        "gdf_to_csv(gdf_solarRadDaily)\n",
        "gdf_solarRadDaily"
      ]
    },
    {
      "cell_type": "code",
      "execution_count": null,
      "metadata": {
        "cellView": "form",
        "id": "tBCLhoPEu6Vl"
      },
      "outputs": [],
      "source": [
        "# @title Air Temp Annual Mean\n",
        "\n",
        "def get_airTempAnnual(feat):\n",
        "  f_date = ee.Date(feat.get('fireDate'))\n",
        "  i_date = f_date.advance(-1,'year')\n",
        "  imgCol = ee.ImageCollection('ECMWF/ERA5_LAND/MONTHLY_AGGR') \\\n",
        "    .filterDate(i_date,f_date) \\\n",
        "    .filterBounds(feat.geometry())\\\n",
        "    .select(\"temperature_2m\") # (°K)\n",
        "  img = imgCol.mean()\n",
        "  airTempAnnual = img.sample(feat.geometry(),scale=10).first().get('temperature_2m')\n",
        "  return feat.set({'airTempAnnual':airTempAnnual})\n",
        "\n",
        "gdf_airTempAnnual = gdf_CAFires.copy()\n",
        "gdf_airTempAnnual = get_results(gdf_airTempAnnual,get_topo)\n",
        "filename = 'gdf_airTempAnnual.csv'\n",
        "gdf_to_csv(gdf_airTempAnnual)\n",
        "gdf_airTempAnnual"
      ]
    },
    {
      "cell_type": "code",
      "execution_count": null,
      "metadata": {
        "cellView": "form",
        "id": "Rm4N4ynr9oCk"
      },
      "outputs": [],
      "source": [
        "# @title Air Temp Monthly Mean\n",
        "\n",
        "def get_airTempMonthly(feat):\n",
        "  f_date = ee.Date(feat.get('fireDate'))\n",
        "  i_date = f_date.advance(-1,'month')\n",
        "  imgCol = ee.ImageCollection('ECMWF/ERA5_LAND/MONTHLY_AGGR') \\\n",
        "    .filterDate(i_date,f_date) \\\n",
        "    .filterBounds(feat.geometry())\\\n",
        "    .select(\"temperature_2m\") # (°K)\n",
        "  img = imgCol.mean()\n",
        "  airTempMonthly = img.sample(feat.geometry(),scale=10).first().get('temperature_2m')\n",
        "  return feat.set({'airTempMonthly':airTempMonthly})\n",
        "\n",
        "gdf_airTempMonthly = gdf_CAFires.copy()\n",
        "gdf_airTempMonthly = get_results(gdf_airTempMonthly,get_topo)\n",
        "filename = 'gdf_airTempMonthly.csv'\n",
        "gdf_to_csv(gdf_airTempMonthly)\n",
        "gdf_airTempMonthly"
      ]
    },
    {
      "cell_type": "code",
      "execution_count": null,
      "metadata": {
        "cellView": "form",
        "id": "JUx03GznWBly"
      },
      "outputs": [],
      "source": [
        "# @title Air Temp Daily\n",
        "\n",
        "def get_airTempDaily(feat):\n",
        "  date = ee.Date(feat.get('fireDate'))\n",
        "  imgCol = ee.ImageCollection('ECMWF/ERA5_LAND/DAILY_AGGR') \\\n",
        "    .filterDate(date) \\\n",
        "    .select(\"temperature_2m\") # (°K)\n",
        "  img = imgCol.mean()\n",
        "  airTempDaily = img.sample(feat.geometry(),scale=10).first().get('temperature_2m')\n",
        "  return feat.set({'airTempDaily':airTempDaily})\n",
        "\n",
        "def split_gdf(gdf,splitSize=5000): # GEE cancels queries amassing > 5000 elements\n",
        "  split_gdf_list = np.array_split(gdf.copy(),\n",
        "                           range(0,len(gdf),splitSize)\n",
        "                           )[1:] # first element returns empty gdf\n",
        "  return split_gdf_list\n",
        "\n",
        "gdf_airTempDaily = gdf_CAFires.copy()\n",
        "gdf_airTempDaily = get_results(gdf_airTempDaily,get_topo)\n",
        "filename = 'gdf_airTempDaily.csv'\n",
        "gdf_to_csv(gdf_airTempDaily)\n",
        "gdf_airTempDaily"
      ]
    },
    {
      "cell_type": "code",
      "execution_count": null,
      "metadata": {
        "cellView": "form",
        "id": "29AE4Smtbe9L"
      },
      "outputs": [],
      "source": [
        "# @title Land Cover Type\n",
        "# Create function with without Python syntax to be executed server-side\n",
        "def get_landCover(feat):\n",
        "  f_date = ee.Date(feat.get('fireDate')).advance(1,'day')\n",
        "  i_date = f_date.advance(-1,'year')\n",
        "  imgCol = ee.ImageCollection('MODIS/006/MCD12Q1')\\\n",
        "    .filterBounds(feat.geometry())\\\n",
        "    .filterDate(i_date,f_date)\\\n",
        "    .select('LC_Type1')\n",
        "  img = imgCol.first()\n",
        "  landCover = img.sample(feat.geometry(),scale=10).first().get('LC_Type1')\n",
        "  return feat.set({'landCover':landCover})\n",
        "\n",
        "gdf_landCover = get_results(gdf_CAFires_2001_2015,get_landCover)\n",
        "gdf_to_csv(gdf_landCover,'landCover')\n",
        "gdf_landCover\n",
        "\n",
        "gdf_landCover = gdf_CAFires.copy()\n",
        "gdf_landCover = get_results(gdf_landCover,get_topo)\n",
        "filename = 'gdf_landCover.csv'\n",
        "gdf_to_csv(gdf_landCover)\n",
        "gdf_landCover"
      ]
    },
    {
      "cell_type": "code",
      "execution_count": null,
      "metadata": {
        "cellView": "form",
        "id": "G_KdSR_Og9Qa"
      },
      "outputs": [],
      "source": [
        "# @title Land Surface Temp Daily\n",
        "def get_LST_Daily(feat):\n",
        "  date = ee.Date(feat.get('fireDate'))\n",
        "  imgCol = ee.ImageCollection('ECMWF/ERA5_LAND/DAILY_AGGR')\\\n",
        "    .filterBounds(feat.geometry())\\\n",
        "    .filterDate(date)\\\n",
        "    .select('skin_temperature') # (°K)\n",
        "  img = imgCol.mean()\n",
        "  LST_Daily = img.sample(feat.geometry(),scale=10).first().get('skin_temperature')\n",
        "  return feat.set({'LST_Daily':LST_Daily})\n",
        "\n",
        "gdf_LST_Daily = gdf_CAFires.copy()\n",
        "gdf_LST_Daily = get_results(gdf_LST_Daily,get_topo)\n",
        "filename = 'gdf_LST_Daily.csv'\n",
        "gdf_to_csv(gdf_LST_Daily)\n",
        "gdf_LST_Daily"
      ]
    },
    {
      "cell_type": "code",
      "execution_count": null,
      "metadata": {
        "cellView": "form",
        "id": "wLBChLjHpbsN"
      },
      "outputs": [],
      "source": [
        "# @title Land Surface Temp Monthly Mean\n",
        "def get_LST_Monthly(feat):\n",
        "  f_date = ee.Date(feat.get('fireDate'))\n",
        "  i_date = f_date.advance(-1,'month')\n",
        "  imgCol = ee.ImageCollection('ECMWF/ERA5_LAND/MONTHLY_AGGR')\\\n",
        "    .filterBounds(feat.geometry())\\\n",
        "    .filterDate(i_date,f_date)\\\n",
        "    .select('skin_temperature') # (°K)\n",
        "  img = imgCol.mean()\n",
        "  LST_Monthly = img.sample(feat.geometry(),scale=10).first().get('skin_temperature')\n",
        "  return feat.set({'LST_Monthly':LST_Monthly})\n",
        "\n",
        "gdf_LST_Monthly = gdf_CAFires.copy()\n",
        "gdf_LST_Monthly = get_results(gdf_LST_Monthly,get_topo)\n",
        "filename = 'gdf_LST_Monthly.csv'\n",
        "gdf_to_csv(gdf_LST_Monthly)\n",
        "gdf_LST_Monthly"
      ]
    },
    {
      "cell_type": "code",
      "execution_count": null,
      "metadata": {
        "cellView": "form",
        "id": "BZv-6cpEh2UZ"
      },
      "outputs": [],
      "source": [
        "# @title Land Surface Temp Annual Mean\n",
        "def get_LST_Annual(feat):\n",
        "  f_date = ee.Date(feat.get('fireDate'))\n",
        "  i_date = f_date.advance(-1,'year')\n",
        "  imgCol = ee.ImageCollection('ECMWF/ERA5_LAND/MONTHLY_AGGR')\\\n",
        "    .filterBounds(feat.geometry())\\\n",
        "    .filterDate(i_date,f_date)\\\n",
        "    .select('skin_temperature') # (°K)\n",
        "  img = imgCol.mean()\n",
        "  LST_Annual = img.sample(feat.geometry(),scale=10).first().get('skin_temperature')\n",
        "  return feat.set({'LST_Annual':LST_Annual})\n",
        "\n",
        "gdf_LST_Annual = gdf_CAFires.copy()\n",
        "gdf_LST_Annual = get_results(gdf_LST_Annual,get_topo)\n",
        "filename = 'gdf_LST_Annual.csv'\n",
        "gdf_to_csv(gdf_LST_Annual)\n",
        "gdf_LST_Annual"
      ]
    },
    {
      "cell_type": "code",
      "execution_count": null,
      "metadata": {
        "cellView": "form",
        "id": "8jew4HgwzNjc"
      },
      "outputs": [],
      "source": [
        "# @title Standardized Precipitation Index\n",
        "def get_SPI(feat):\n",
        "  f_date = ee.Date(feat.get('fireDate'))\n",
        "  i_date = f_date.advance(-1,'month')\n",
        "  img = ee.ImageCollection(\"GRIDMET/DROUGHT\") \\\n",
        "    .filterBounds(feat.geometry())\\\n",
        "    .filterDate(i_date,f_date) \\\n",
        "    .select('spi1y')\\\n",
        "    .mean()\n",
        "  SPI = img.sample(feat.geometry(),scale=10).first().get('spi1y')\n",
        "  return feat.set({'SPI':SPI})\n",
        "\n",
        "gdf_SPI = gdf_CAFires.copy()\n",
        "gdf_SPI = get_results(gdf_SPI,get_topo)\n",
        "filename = 'gdf_SPI.csv'\n",
        "gdf_to_csv(gdf_SPI)\n",
        "gdf_SPI"
      ]
    },
    {
      "cell_type": "code",
      "execution_count": null,
      "metadata": {
        "cellView": "form",
        "id": "cBG34sFkh6Mj"
      },
      "outputs": [],
      "source": [
        "ee.ImageCollection(\"GRIDMET/DROUGHT\") # @title Precipitation Daily\n",
        "def get_precipDaily(feat):\n",
        "  date = ee.Date(feat.get('fireDate'))\n",
        "  imgCol = ee.ImageCollection('ECMWF/ERA5_LAND/DAILY_AGGR') \\\n",
        "    .filterDate(date) \\\n",
        "    .select('total_precipitation_sum') # meters\n",
        "  img = imgCol.mean()\n",
        "  precipDaily = img.sample(feat.geometry(),scale=10).first().get('total_precipitation_sum')\n",
        "  return feat.set({'precipDaily':precipDaily})\n",
        "\n",
        "gdf_precipDaily = get_results(gdf_CAFires_trim,get_precipDaily)\n",
        "\n",
        "gdf_precipDaily = gdf_CAFires.copy()\n",
        "gdf_precipDaily = get_results(gdf_precipDaily,get_topo)\n",
        "filename = 'gdf_precipDaily.csv'\n",
        "gdf_to_csv(gdf_precipDaily)\n",
        "gdf_precipDaily"
      ]
    },
    {
      "cell_type": "code",
      "execution_count": null,
      "metadata": {
        "cellView": "form",
        "id": "KAyzriYDYwuZ"
      },
      "outputs": [],
      "source": [
        "# @title Precipitation Annual Sum\n",
        "def get_precipAnnual(feat):\n",
        "  f_date = ee.Date(feat.get('fireDate'))\n",
        "  i_date = f_date.advance(-1,'year')\n",
        "  imgCol = ee.ImageCollection('ECMWF/ERA5_LAND/MONTHLY_AGGR')\\\n",
        "    .filterBounds(feat.geometry())\\\n",
        "    .filterDate(i_date,f_date) \\\n",
        "    .select('total_precipitation_sum')\n",
        "  precipAnnual = imgCol.aggregate_sum('total_precipitation_sum')\n",
        "  return feat.set({'precipAnnual':precipAnnual})\n",
        "\n",
        "gdf_precipAnnual = gdf_CAFires.copy()\n",
        "gdf_precipAnnual = get_results(gdf_precipAnnual,get_topo)\n",
        "filename = 'gdf_precipAnnual.csv'\n",
        "gdf_to_csv(gdf_precipAnnual)\n",
        "gdf_precipAnnual"
      ]
    },
    {
      "cell_type": "code",
      "execution_count": null,
      "metadata": {
        "cellView": "form",
        "id": "sPSCOodho3Nt"
      },
      "outputs": [],
      "source": [
        "# @title Wind Speed/Direction Daily\n",
        "def get_windDaily(feat):\n",
        "  date = ee.Date(feat.get('fireDate'))\n",
        "  imgCol = ee.ImageCollection('ECMWF/ERA5_LAND/DAILY_AGGR')\\\n",
        "    .filterBounds(feat.geometry())\\\n",
        "    .filterDate(date) \\\n",
        "    .select('u_component_of_wind_10m','v_component_of_wind_10m')\n",
        "  img = imgCol.mean()\n",
        "  wind_u = img.sample(feat.geometry(),scale=10).first().get('u_component_of_wind_10m')\n",
        "  wind_v = img.sample(feat.geometry(),scale=10).first().get('v_component_of_wind_10m')\n",
        "  return feat.set({'wind_u_Daily':wind_u,'wind_v_Daily':wind_v})\n",
        "\n",
        "gdf_windDaily = get_results(gdf_CAFires_trim,get_windDaily)\n",
        "\n",
        "# Convert vectors to speed and direction\n",
        "windSpeedDaily = []\n",
        "windDirectionDaily = []\n",
        "wind_u_Daily = gdf_windDaily['wind_u_Daily'].to_list()\n",
        "wind_v_Daily = gdf_windDaily['wind_u_Daily'].to_list()\n",
        "for u, v in zip(wind_u_Daily,wind_v_Daily):\n",
        "  windSpeedDaily.append(math.sqrt(u**2 + v**2))\n",
        "  windDirectionDaily.append(np.arctan2(v,u))\n",
        "gdf_windDaily['windSpeedDaily'] = windSpeedDaily  * 180 / math.pi\n",
        "gdf_windDaily['windDirectionDaily'] = windDirectionDaily  * 180 / math.pi\n",
        "\n",
        "gdf_windDaily = gdf_CAFires.copy()\n",
        "gdf_windDaily = get_results(gdf_windDaily,get_topo)\n",
        "filename = 'gdf_windDaily.csv'\n",
        "gdf_to_csv(gdf_windDaily)\n",
        "gdf_windDaily"
      ]
    },
    {
      "cell_type": "code",
      "execution_count": null,
      "metadata": {
        "cellView": "form",
        "id": "7EbYTqb2USlv"
      },
      "outputs": [],
      "source": [
        "# @title Wind Speed/Direction Monthly Mean\n",
        "# https://disc.gsfc.nasa.gov/information/data-in-action?title=Derive%20Wind%20Speed%20and%20Direction%20With%20MERRA-2%20Wind%20Components\n",
        "def get_windMonthly(feat):\n",
        "  f_date = ee.Date(feat.get('fireDate'))\n",
        "  i_date = f_date.advance(-1,'month')\n",
        "  imgCol = ee.ImageCollection('ECMWF/ERA5_LAND/MONTHLY_AGGR')\\\n",
        "    .filterBounds(feat.geometry())\\\n",
        "    .filterDate(i_date,f_date) \\\n",
        "    .select('u_component_of_wind_10m','v_component_of_wind_10m')\n",
        "  img = imgCol.mean()\n",
        "  wind_u = img.sample(feat.geometry(),scale=10).first().get('u_component_of_wind_10m')\n",
        "  wind_v = img.sample(feat.geometry(),scale=10).first().get('v_component_of_wind_10m')\n",
        "  return feat.set({'wind_u_Monthly':wind_u,'wind_v_Monthly':wind_v})\n",
        "\n",
        "gdf_windMonthly = get_results(gdf_CAFires_trim,get_windMonthly)\n",
        "\n",
        "# Convert vectors to speed and direction\n",
        "windSpeedMonthly = []\n",
        "windDirectionMonthly = []\n",
        "wind_u_Monthly = gdf_windMonthly['wind_u_Monthly'].to_list()\n",
        "wind_v_Monthly = gdf_windMonthly['wind_u_Monthly'].to_list()\n",
        "for u, v in zip(wind_u_Monthly,wind_v_Monthly):\n",
        "  windSpeedMonthly.append(math.sqrt(u**2 + v**2))\n",
        "  windDirectionMonthly.append(np.arctan2(v,u))\n",
        "gdf_windMonthly['windSpeedMonthly'] = windSpeedMonthly * 180 / math.pi\n",
        "gdf_windMonthly['windDirectionMonthly'] = windDirectionMonthly * 180 / math.pi\n",
        "\n",
        "gdf_windMonthly = gdf_CAFires.copy()\n",
        "gdf_windMonthly = get_results(gdf_windMonthly,get_topo)\n",
        "filename = 'gdf_windMonthly.csv'\n",
        "gdf_to_csv(gdf_windMonthly)\n",
        "gdf_windMonthly"
      ]
    },
    {
      "cell_type": "code",
      "execution_count": null,
      "metadata": {
        "cellView": "form",
        "id": "_xK9T1AbrcUE"
      },
      "outputs": [],
      "source": [
        "# @title WeekendBool (Fri/Sat/Sun)\n",
        "weekendBool = []\n",
        "dow_list = pd.to_datetime(gdf_CAFires['fireDate']).dt.dayofweek.to_list()\n",
        "for dow in dow_list:\n",
        "  if dow in [4,5,6]:\n",
        "    weekendBool.append(1)\n",
        "  else:\n",
        "    weekendBool.append(0)\n",
        "gdf_CAFires['weekendBool'] = weekendBool"
      ]
    },
    {
      "cell_type": "markdown",
      "source": [
        "# Merge DataFrames to combine attributes"
      ],
      "metadata": {
        "id": "cZ-SGheyDKxG"
      }
    },
    {
      "cell_type": "code",
      "source": [
        "attribute_gdf_list = [\n",
        "    gdf_topo,\n",
        "    gdf_ndvi,\n",
        "    gdf_solarRadAnnual,\n",
        "\n",
        "    ]\n",
        "for gdf in attribute_gdf_list:\n",
        "  gdf = gdf.drop(\n",
        "      columns = ['geometry', 'fireClass', 'fireDate',\n",
        "       'fireSize', 'fireYear']\n",
        "  )\n",
        "  gdf_CAFires = gdf_CAFires.merge(how='left',on='FPA_ID')\n",
        "\n",
        "filename = 'CAFires_ClassifierTrainingAttributes.csv'\n",
        "gdf_to_csv(gdf_CAFires, filename, timestamp = False)\n",
        "gdf_CAFires"
      ],
      "metadata": {
        "id": "ygZnfF8GDcE6"
      },
      "execution_count": null,
      "outputs": []
    }
  ],
  "metadata": {
    "colab": {
      "provenance": [],
      "gpuType": "V100",
      "include_colab_link": true
    },
    "kernelspec": {
      "display_name": "Python 3",
      "name": "python3"
    },
    "language_info": {
      "name": "python"
    }
  },
  "nbformat": 4,
  "nbformat_minor": 0
}